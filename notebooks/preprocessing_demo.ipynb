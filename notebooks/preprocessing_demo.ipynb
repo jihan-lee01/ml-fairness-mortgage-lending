{
 "cells": [
  {
   "cell_type": "code",
   "execution_count": 1,
   "metadata": {},
   "outputs": [],
   "source": [
    "import pandas as pd\n",
    "import numpy as np\n",
    "from sklearn.impute import SimpleImputer\n",
    "from sklearn.preprocessing import StandardScaler, OneHotEncoder\n",
    "from sklearn.model_selection import train_test_split\n",
    "import sqlite3"
   ]
  },
  {
   "cell_type": "code",
   "execution_count": 2,
   "metadata": {},
   "outputs": [],
   "source": [
    "conn = sqlite3.connect('../data/dataset.db')"
   ]
  },
  {
   "cell_type": "code",
   "execution_count": 2,
   "metadata": {},
   "outputs": [
    {
     "name": "stderr",
     "output_type": "stream",
     "text": [
      "/Users/jihan/anaconda/lib/python3.8/site-packages/IPython/core/interactiveshell.py:3146: DtypeWarning: Columns (3,22,23,24,26,27,28,29,30,31,32,33,38,43,44,46,77,78,79,80) have mixed types.Specify dtype option on import or set low_memory=False.\n",
      "  has_raised = await self.run_ast_nodes(code_ast.body, cell_name,\n"
     ]
    }
   ],
   "source": [
    "df = pd.read_csv(\"../data/2022_public_lar.csv\")"
   ]
  },
  {
   "cell_type": "code",
   "execution_count": 3,
   "metadata": {},
   "outputs": [
    {
     "name": "stdout",
     "output_type": "stream",
     "text": [
      "<class 'pandas.core.frame.DataFrame'>\n",
      "RangeIndex: 16080210 entries, 0 to 16080209\n",
      "Data columns (total 99 columns):\n",
      " #   Column                                    Dtype  \n",
      "---  ------                                    -----  \n",
      " 0   activity_year                             int64  \n",
      " 1   lei                                       object \n",
      " 2   derived_msa_md                            int64  \n",
      " 3   state_code                                object \n",
      " 4   county_code                               float64\n",
      " 5   census_tract                              float64\n",
      " 6   conforming_loan_limit                     object \n",
      " 7   derived_loan_product_type                 object \n",
      " 8   derived_dwelling_category                 object \n",
      " 9   derived_ethnicity                         object \n",
      " 10  derived_race                              object \n",
      " 11  derived_sex                               object \n",
      " 12  action_taken                              int64  \n",
      " 13  purchaser_type                            int64  \n",
      " 14  preapproval                               int64  \n",
      " 15  loan_type                                 int64  \n",
      " 16  loan_purpose                              int64  \n",
      " 17  lien_status                               int64  \n",
      " 18  reverse_mortgage                          int64  \n",
      " 19  open_end_line_of_credit                   int64  \n",
      " 20  business_or_commercial_purpose            int64  \n",
      " 21  loan_amount                               int64  \n",
      " 22  combined_loan_to_value_ratio              object \n",
      " 23  interest_rate                             object \n",
      " 24  rate_spread                               object \n",
      " 25  hoepa_status                              int64  \n",
      " 26  total_loan_costs                          object \n",
      " 27  total_points_and_fees                     object \n",
      " 28  origination_charges                       object \n",
      " 29  discount_points                           object \n",
      " 30  lender_credits                            object \n",
      " 31  loan_term                                 object \n",
      " 32  prepayment_penalty_term                   object \n",
      " 33  intro_rate_period                         object \n",
      " 34  negative_amortization                     int64  \n",
      " 35  interest_only_payment                     int64  \n",
      " 36  balloon_payment                           int64  \n",
      " 37  other_nonamortizing_features              int64  \n",
      " 38  property_value                            object \n",
      " 39  construction_method                       int64  \n",
      " 40  occupancy_type                            int64  \n",
      " 41  manufactured_home_secured_property_type   int64  \n",
      " 42  manufactured_home_land_property_interest  int64  \n",
      " 43  total_units                               object \n",
      " 44  multifamily_affordable_units              object \n",
      " 45  income                                    float64\n",
      " 46  debt_to_income_ratio                      object \n",
      " 47  applicant_credit_score_type               int64  \n",
      " 48  co_applicant_credit_score_type            int64  \n",
      " 49  applicant_ethnicity_1                     float64\n",
      " 50  applicant_ethnicity_2                     float64\n",
      " 51  applicant_ethnicity_3                     float64\n",
      " 52  applicant_ethnicity_4                     float64\n",
      " 53  applicant_ethnicity_5                     float64\n",
      " 54  co_applicant_ethnicity_1                  float64\n",
      " 55  co_applicant_ethnicity_2                  float64\n",
      " 56  co_applicant_ethnicity_3                  float64\n",
      " 57  co_applicant_ethnicity_4                  float64\n",
      " 58  co_applicant_ethnicity_5                  float64\n",
      " 59  applicant_ethnicity_observed              int64  \n",
      " 60  co_applicant_ethnicity_observed           int64  \n",
      " 61  applicant_race_1                          float64\n",
      " 62  applicant_race_2                          float64\n",
      " 63  applicant_race_3                          float64\n",
      " 64  applicant_race_4                          float64\n",
      " 65  applicant_race_5                          float64\n",
      " 66  co_applicant_race_1                       float64\n",
      " 67  co_applicant_race_2                       float64\n",
      " 68  co_applicant_race_3                       float64\n",
      " 69  co_applicant_race_4                       float64\n",
      " 70  co_applicant_race_5                       float64\n",
      " 71  applicant_race_observed                   int64  \n",
      " 72  co_applicant_race_observed                int64  \n",
      " 73  applicant_sex                             int64  \n",
      " 74  co_applicant_sex                          int64  \n",
      " 75  applicant_sex_observed                    int64  \n",
      " 76  co_applicant_sex_observed                 int64  \n",
      " 77  applicant_age                             object \n",
      " 78  co_applicant_age                          object \n",
      " 79  applicant_age_above_62                    object \n",
      " 80  co_applicant_age_above_62                 object \n",
      " 81  submission_of_application                 int64  \n",
      " 82  initially_payable_to_institution          int64  \n",
      " 83  aus_1                                     int64  \n",
      " 84  aus_2                                     float64\n",
      " 85  aus_3                                     float64\n",
      " 86  aus_4                                     float64\n",
      " 87  aus_5                                     float64\n",
      " 88  denial_reason_1                           int64  \n",
      " 89  denial_reason_2                           float64\n",
      " 90  denial_reason_3                           float64\n",
      " 91  denial_reason_4                           float64\n",
      " 92  tract_population                          int64  \n",
      " 93  tract_minority_population_percent         float64\n",
      " 94  ffiec_msa_md_median_family_income         int64  \n",
      " 95  tract_to_msa_income_percentage            float64\n",
      " 96  tract_owner_occupied_units                int64  \n",
      " 97  tract_one_to_four_family_homes            int64  \n",
      " 98  tract_median_age_of_housing_units         int64  \n",
      "dtypes: float64(32), int64(40), object(27)\n",
      "memory usage: 11.9+ GB\n"
     ]
    }
   ],
   "source": [
    "df.info()"
   ]
  },
  {
   "cell_type": "code",
   "execution_count": 4,
   "metadata": {},
   "outputs": [],
   "source": [
    "df.to_sql('2022_public_lar', conn, if_exists='replace', index=False)"
   ]
  },
  {
   "cell_type": "code",
   "execution_count": 4,
   "metadata": {},
   "outputs": [],
   "source": [
    "pd.set_option('display.max_rows', None)"
   ]
  },
  {
   "cell_type": "code",
   "execution_count": 5,
   "metadata": {},
   "outputs": [
    {
     "data": {
      "text/plain": [
       "activity_year                                      0\n",
       "lei                                                0\n",
       "derived_msa_md                                     0\n",
       "state_code                                    184147\n",
       "county_code                                   299660\n",
       "census_tract                                  347665\n",
       "conforming_loan_limit                          72197\n",
       "derived_loan_product_type                          0\n",
       "derived_dwelling_category                          0\n",
       "derived_ethnicity                                  0\n",
       "derived_race                                       0\n",
       "derived_sex                                        0\n",
       "action_taken                                       0\n",
       "purchaser_type                                     0\n",
       "preapproval                                        0\n",
       "loan_type                                          0\n",
       "loan_purpose                                       0\n",
       "lien_status                                        0\n",
       "reverse_mortgage                                   0\n",
       "open_end_line_of_credit                            0\n",
       "business_or_commercial_purpose                     0\n",
       "loan_amount                                        0\n",
       "combined_loan_to_value_ratio                 5279299\n",
       "interest_rate                                5572122\n",
       "rate_spread                                  7920235\n",
       "hoepa_status                                       0\n",
       "total_loan_costs                             8287126\n",
       "total_points_and_fees                       15672880\n",
       "origination_charges                          8215752\n",
       "discount_points                             11775245\n",
       "lender_credits                              13156609\n",
       "loan_term                                     269887\n",
       "prepayment_penalty_term                     15162877\n",
       "intro_rate_period                           12681600\n",
       "negative_amortization                              0\n",
       "interest_only_payment                              0\n",
       "balloon_payment                                    0\n",
       "other_nonamortizing_features                       0\n",
       "property_value                               3350265\n",
       "construction_method                                0\n",
       "occupancy_type                                     0\n",
       "manufactured_home_secured_property_type            0\n",
       "manufactured_home_land_property_interest           0\n",
       "total_units                                        0\n",
       "multifamily_affordable_units                15727801\n",
       "income                                       1813183\n",
       "debt_to_income_ratio                         5180774\n",
       "applicant_credit_score_type                        0\n",
       "co_applicant_credit_score_type                     0\n",
       "applicant_ethnicity_1                           7142\n",
       "applicant_ethnicity_2                       15186608\n",
       "applicant_ethnicity_3                       16063440\n",
       "applicant_ethnicity_4                       16079614\n",
       "applicant_ethnicity_5                       16079999\n",
       "co_applicant_ethnicity_1                        2017\n",
       "co_applicant_ethnicity_2                    15752955\n",
       "co_applicant_ethnicity_3                    16074693\n",
       "co_applicant_ethnicity_4                    16080063\n",
       "co_applicant_ethnicity_5                    16080132\n",
       "applicant_ethnicity_observed                       0\n",
       "co_applicant_ethnicity_observed                    0\n",
       "applicant_race_1                                2824\n",
       "applicant_race_2                            15287964\n",
       "applicant_race_3                            16014037\n",
       "applicant_race_4                            16070841\n",
       "applicant_race_5                            16076770\n",
       "co_applicant_race_1                              931\n",
       "co_applicant_race_2                         15782631\n",
       "co_applicant_race_3                         16056083\n",
       "co_applicant_race_4                         16076647\n",
       "co_applicant_race_5                         16078865\n",
       "applicant_race_observed                            0\n",
       "co_applicant_race_observed                         0\n",
       "applicant_sex                                      0\n",
       "co_applicant_sex                                   0\n",
       "applicant_sex_observed                             0\n",
       "co_applicant_sex_observed                          0\n",
       "applicant_age                                      0\n",
       "co_applicant_age                                   0\n",
       "applicant_age_above_62                       1661418\n",
       "co_applicant_age_above_62                   10161904\n",
       "submission_of_application                          0\n",
       "initially_payable_to_institution                   0\n",
       "aus_1                                              0\n",
       "aus_2                                       15053387\n",
       "aus_3                                       15848218\n",
       "aus_4                                       16009793\n",
       "aus_5                                       16018203\n",
       "denial_reason_1                                    0\n",
       "denial_reason_2                             15560110\n",
       "denial_reason_3                             15995046\n",
       "denial_reason_4                             16072527\n",
       "tract_population                                   0\n",
       "tract_minority_population_percent                  0\n",
       "ffiec_msa_md_median_family_income                  0\n",
       "tract_to_msa_income_percentage                     0\n",
       "tract_owner_occupied_units                         0\n",
       "tract_one_to_four_family_homes                     0\n",
       "tract_median_age_of_housing_units                  0\n",
       "dtype: int64"
      ]
     },
     "execution_count": 5,
     "metadata": {},
     "output_type": "execute_result"
    }
   ],
   "source": [
    "df.isnull().sum()"
   ]
  },
  {
   "cell_type": "code",
   "execution_count": 3,
   "metadata": {},
   "outputs": [],
   "source": [
    "def recode_categorical_cols(df, recode_map):\n",
    "    for col, mapping in recode_map.items():\n",
    "        df[col] = df[col].replace(mapping)\n",
    "    return df"
   ]
  },
  {
   "cell_type": "code",
   "execution_count": 4,
   "metadata": {},
   "outputs": [],
   "source": [
    "# Drop unnecessary, redundant, and sparse columns (based on domain knowledge)\n",
    "unnecessary = df.columns[list(range(47, 77)) + list(range(78, 99)) + [0, 1, 13, 18]]\n",
    "redundant = ['census_tract', 'derived_msa_md', 'county_code', 'loan_type', 'lien_status', 'construction_method']\n",
    "sparse = ['discount_points', 'total_points_and_fees', 'lender_credits', 'prepayment_penalty_term', 'intro_rate_period', 'multifamily_affordable_units']\n",
    "df = df.drop(columns=unnecessary)\n",
    "df = df.drop(columns=redundant + sparse)"
   ]
  },
  {
   "cell_type": "code",
   "execution_count": 5,
   "metadata": {},
   "outputs": [
    {
     "data": {
      "text/plain": [
       "(16080210, 32)"
      ]
     },
     "execution_count": 5,
     "metadata": {},
     "output_type": "execute_result"
    }
   ],
   "source": [
    "df.shape"
   ]
  },
  {
   "cell_type": "code",
   "execution_count": 6,
   "metadata": {},
   "outputs": [],
   "source": [
    "# Drop observations with not useful values (e.g., Not Available, Free From Text Only)\n",
    "df = df[~df['derived_ethnicity'].isin(['Ethnicity Not Available', 'Free Form Text Only', 'Joint'])]\n",
    "df = df[~df['derived_race'].isin(['Race Not Available', 'Free Form Text Only', 'Joint'])]\n",
    "df = df[~df['derived_sex'].isin(['Sex Not Available', 'Joint'])]\n",
    "df = df[df['applicant_age'] != '8888']"
   ]
  },
  {
   "cell_type": "code",
   "execution_count": 7,
   "metadata": {},
   "outputs": [],
   "source": [
    "df = df[df['action_taken'].isin([1, 3])]\n",
    "df['loan_approved'] = df['action_taken'].apply(lambda x: 1 if x == 1 else 0)\n",
    "df = df.drop(columns=['action_taken'])"
   ]
  },
  {
   "cell_type": "code",
   "execution_count": 8,
   "metadata": {},
   "outputs": [
    {
     "data": {
      "text/plain": [
       "(5165521, 32)"
      ]
     },
     "execution_count": 8,
     "metadata": {},
     "output_type": "execute_result"
    }
   ],
   "source": [
    "df.shape"
   ]
  },
  {
   "cell_type": "code",
   "execution_count": 12,
   "metadata": {},
   "outputs": [
    {
     "name": "stdout",
     "output_type": "stream",
     "text": [
      "<class 'pandas.core.frame.DataFrame'>\n",
      "Int64Index: 5165521 entries, 0 to 16080206\n",
      "Data columns (total 32 columns):\n",
      " #   Column                                    Dtype  \n",
      "---  ------                                    -----  \n",
      " 0   state_code                                object \n",
      " 1   conforming_loan_limit                     object \n",
      " 2   derived_loan_product_type                 object \n",
      " 3   derived_dwelling_category                 object \n",
      " 4   derived_ethnicity                         object \n",
      " 5   derived_race                              object \n",
      " 6   derived_sex                               object \n",
      " 7   preapproval                               int64  \n",
      " 8   loan_purpose                              int64  \n",
      " 9   open_end_line_of_credit                   int64  \n",
      " 10  business_or_commercial_purpose            int64  \n",
      " 11  loan_amount                               int64  \n",
      " 12  combined_loan_to_value_ratio              object \n",
      " 13  interest_rate                             object \n",
      " 14  rate_spread                               object \n",
      " 15  hoepa_status                              int64  \n",
      " 16  total_loan_costs                          object \n",
      " 17  origination_charges                       object \n",
      " 18  loan_term                                 object \n",
      " 19  negative_amortization                     int64  \n",
      " 20  interest_only_payment                     int64  \n",
      " 21  balloon_payment                           int64  \n",
      " 22  other_nonamortizing_features              int64  \n",
      " 23  property_value                            object \n",
      " 24  occupancy_type                            int64  \n",
      " 25  manufactured_home_secured_property_type   int64  \n",
      " 26  manufactured_home_land_property_interest  int64  \n",
      " 27  total_units                               object \n",
      " 28  income                                    float64\n",
      " 29  debt_to_income_ratio                      object \n",
      " 30  applicant_age                             object \n",
      " 31  loan_approved                             int64  \n",
      "dtypes: float64(1), int64(14), object(17)\n",
      "memory usage: 1.3+ GB\n"
     ]
    }
   ],
   "source": [
    "df.info()"
   ]
  },
  {
   "cell_type": "code",
   "execution_count": 9,
   "metadata": {},
   "outputs": [],
   "source": [
    "# Rename certain columns and typecasting\n",
    "rename_map = {'derived_loan_product_type': 'loan_product_type', 'derived_dwelling_category': 'dwelling_category', 'derived_ethnicity': 'ethnicity', 'derived_race': 'race', 'derived_sex': 'sex', 'applicant_age': 'age'}\n",
    "df = df.rename(columns=rename_map)"
   ]
  },
  {
   "cell_type": "code",
   "execution_count": 10,
   "metadata": {},
   "outputs": [],
   "source": [
    "numeric_cols = ['combined_loan_to_value_ratio', 'interest_rate', 'rate_spread', 'origination_charges', 'loan_term', 'property_value', 'total_units', 'total_loan_costs']\n",
    "\n",
    "for col in numeric_cols:\n",
    "    df[col] = pd.to_numeric(df[col], errors='coerce')"
   ]
  },
  {
   "cell_type": "code",
   "execution_count": 11,
   "metadata": {},
   "outputs": [],
   "source": [
    "# Replace values before one-hot encoding\n",
    "recode_map = {\n",
    "    'preapproval': {2: 0},\n",
    "    'loan_purpose': {1: 'Purchase', 2: 'Improvement', 31: 'Refinancing', 32: 'Cash-out', 4: 'Other', 5: 'N/a'},\n",
    "    'hoepa_status': {1: 'Yes', 2: 'No', 3: 'N/a'},\n",
    "    'occupancy_type': {1: 'Principal', 2: 'Second', 3: 'Investment'},\n",
    "    'manufactured_home_land_property_interest': {1: 'Direct', 2: 'Indirect', 3: 'Paid', 4: 'Unpaid', 5: 'N/a', 1111: 'Exempt'},\n",
    "    'debt_to_income_ratio': {'39.0': '39', '38.0': '38'},\n",
    "    'open_end_line_of_credit': {1: 'Yes', 2: 'No', 1111: 'Exempt'}\n",
    "}\n",
    "df = recode_categorical_cols(df, recode_map)\n",
    "df['preapproval'] = df['preapproval'].astype(object)"
   ]
  },
  {
   "cell_type": "code",
   "execution_count": 12,
   "metadata": {},
   "outputs": [],
   "source": [
    "X = df.drop('loan_approved', axis=1)\n",
    "y = df['loan_approved']"
   ]
  },
  {
   "cell_type": "code",
   "execution_count": 19,
   "metadata": {},
   "outputs": [],
   "source": [
    "X.to_csv(\"../data/X.csv\", index=False)"
   ]
  },
  {
   "cell_type": "code",
   "execution_count": null,
   "metadata": {},
   "outputs": [],
   "source": [
    "y.to_csv(\"../data/y.csv\", index=False)"
   ]
  },
  {
   "cell_type": "code",
   "execution_count": 40,
   "metadata": {},
   "outputs": [],
   "source": [
    "X_sampled = X.sample(100000, random_state=334).reset_index(drop=True)\n",
    "y_sampled = y.sample(100000, random_state=334).reset_index(drop=True)"
   ]
  },
  {
   "cell_type": "code",
   "execution_count": 41,
   "metadata": {},
   "outputs": [],
   "source": [
    "X_train, X_test, y_train, y_test = train_test_split(X_sampled, y_sampled, test_size=0.3, random_state=334)"
   ]
  },
  {
   "cell_type": "code",
   "execution_count": 42,
   "metadata": {},
   "outputs": [],
   "source": [
    "X_train = X_train.reset_index(drop=True)\n",
    "X_test = X_test.reset_index(drop=True)\n",
    "y_train = y_train.reset_index(drop=True)\n",
    "y_test = y_test.reset_index(drop=True)"
   ]
  },
  {
   "cell_type": "code",
   "execution_count": 17,
   "metadata": {},
   "outputs": [],
   "source": [
    "X_train.to_csv(\"../data/X_train.csv\", index=False)"
   ]
  },
  {
   "cell_type": "code",
   "execution_count": 18,
   "metadata": {},
   "outputs": [],
   "source": [
    "X_test.to_csv(\"../data/X_test.csv\", index=False)"
   ]
  },
  {
   "cell_type": "code",
   "execution_count": 19,
   "metadata": {},
   "outputs": [],
   "source": [
    "y_train.to_csv(\"../data/y_train.csv\", index=False)"
   ]
  },
  {
   "cell_type": "code",
   "execution_count": 20,
   "metadata": {},
   "outputs": [],
   "source": [
    "y_test.to_csv(\"../data/y_test.csv\", index=False)"
   ]
  },
  {
   "cell_type": "code",
   "execution_count": 43,
   "metadata": {},
   "outputs": [],
   "source": [
    "def imputing(X_train, X_test):\n",
    "    # Impute missing values with median for floating point columns and most frequent values (mode) for others\n",
    "    imputer_mode = SimpleImputer(strategy='most_frequent')\n",
    "    imputer_median = SimpleImputer(strategy='median')\n",
    "    for col in X_train.columns:\n",
    "        if X_train[col].dtype == 'float64':\n",
    "            X_train[col] = imputer_median.fit_transform(X_train[[col]]).ravel()\n",
    "            X_test[col] = imputer_median.transform(X_test[[col]]).ravel()\n",
    "        else:\n",
    "            X_train[col] = imputer_mode.fit_transform(X_train[[col]]).ravel()\n",
    "            X_test[col] = imputer_mode.transform(X_test[[col]]).ravel()\n",
    "\n",
    "    return X_train, X_test"
   ]
  },
  {
   "cell_type": "code",
   "execution_count": 44,
   "metadata": {},
   "outputs": [],
   "source": [
    "X_train, X_test = imputing(X_train, X_test)"
   ]
  },
  {
   "cell_type": "code",
   "execution_count": 45,
   "metadata": {},
   "outputs": [],
   "source": [
    "def scaling(X_train, X_test):\n",
    "    scaler = StandardScaler()\n",
    "    numeric_cols = ['loan_amount', 'combined_loan_to_value_ratio', 'interest_rate', 'rate_spread',\n",
    "                    'total_loan_costs', 'origination_charges', 'loan_term', 'property_value', 'total_units', 'income']\n",
    "    for col in numeric_cols:\n",
    "        X_train[col] = scaler.fit_transform(X_train[[col]])\n",
    "        X_test[col] = scaler.transform(X_test[[col]])\n",
    "\n",
    "    return X_train, X_test"
   ]
  },
  {
   "cell_type": "code",
   "execution_count": 46,
   "metadata": {},
   "outputs": [],
   "source": [
    "X_train, X_test = scaling(X_train, X_test)"
   ]
  },
  {
   "cell_type": "code",
   "execution_count": 49,
   "metadata": {},
   "outputs": [],
   "source": [
    "def select_features(X_train, X_test, y_train):\n",
    "    train_data = pd.concat([X_train, y_train], axis=1)\n",
    "    corr_matrix = train_data.corr()\n",
    "    target_corr = corr_matrix.iloc[:-1, -1].abs()\n",
    "    col_to_drop = set(target_corr[target_corr > 0.8].index.tolist())\n",
    "\n",
    "    for i in range(len(corr_matrix.columns) - 1):\n",
    "        for j in range(i+1, len(corr_matrix.columns) - 1):\n",
    "            if abs(corr_matrix.iloc[i, j]) > 0.9:\n",
    "                if target_corr[i] > target_corr[j]:\n",
    "                    col_to_drop.add(corr_matrix.columns[j])\n",
    "                else:\n",
    "                    col_to_drop.add(corr_matrix.columns[i])\n",
    "\n",
    "    X_train = X_train.drop(columns=list(col_to_drop))\n",
    "    X_test = X_test.drop(columns=list(col_to_drop))\n",
    "\n",
    "    return X_train, X_test"
   ]
  },
  {
   "cell_type": "code",
   "execution_count": 51,
   "metadata": {},
   "outputs": [],
   "source": [
    "X_train, X_test = select_features(X_train, X_test, y_train)"
   ]
  },
  {
   "cell_type": "code",
   "execution_count": 52,
   "metadata": {},
   "outputs": [
    {
     "name": "stdout",
     "output_type": "stream",
     "text": [
      "<class 'pandas.core.frame.DataFrame'>\n",
      "RangeIndex: 70000 entries, 0 to 69999\n",
      "Data columns (total 26 columns):\n",
      " #   Column                                    Non-Null Count  Dtype  \n",
      "---  ------                                    --------------  -----  \n",
      " 0   state_code                                70000 non-null  object \n",
      " 1   conforming_loan_limit                     70000 non-null  object \n",
      " 2   loan_product_type                         70000 non-null  object \n",
      " 3   dwelling_category                         70000 non-null  object \n",
      " 4   ethnicity                                 70000 non-null  object \n",
      " 5   race                                      70000 non-null  object \n",
      " 6   sex                                       70000 non-null  object \n",
      " 7   preapproval                               70000 non-null  object \n",
      " 8   loan_purpose                              70000 non-null  object \n",
      " 9   open_end_line_of_credit                   70000 non-null  object \n",
      " 10  loan_amount                               70000 non-null  float64\n",
      " 11  combined_loan_to_value_ratio              70000 non-null  float64\n",
      " 12  interest_rate                             70000 non-null  float64\n",
      " 13  rate_spread                               70000 non-null  float64\n",
      " 14  hoepa_status                              70000 non-null  object \n",
      " 15  total_loan_costs                          70000 non-null  float64\n",
      " 16  origination_charges                       70000 non-null  float64\n",
      " 17  loan_term                                 70000 non-null  float64\n",
      " 18  property_value                            70000 non-null  float64\n",
      " 19  occupancy_type                            70000 non-null  object \n",
      " 20  manufactured_home_secured_property_type   70000 non-null  int64  \n",
      " 21  manufactured_home_land_property_interest  70000 non-null  object \n",
      " 22  total_units                               70000 non-null  float64\n",
      " 23  income                                    70000 non-null  float64\n",
      " 24  debt_to_income_ratio                      70000 non-null  object \n",
      " 25  age                                       70000 non-null  object \n",
      "dtypes: float64(10), int64(1), object(15)\n",
      "memory usage: 13.9+ MB\n"
     ]
    }
   ],
   "source": [
    "X_train.info()"
   ]
  },
  {
   "cell_type": "code",
   "execution_count": 53,
   "metadata": {},
   "outputs": [],
   "source": [
    "X_train['manufactured_home_secured_property_type'] = X_train['manufactured_home_secured_property_type'].astype(object)\n",
    "X_test['manufactured_home_secured_property_type'] = X_test['manufactured_home_secured_property_type'].astype(object)"
   ]
  },
  {
   "cell_type": "code",
   "execution_count": 54,
   "metadata": {},
   "outputs": [],
   "source": [
    "def encoding(X_train, X_test):\n",
    "    categorical_cols = list(range(0, 7)) + [8, 9, 14, 19, 20, 21, 24, 25]\n",
    "    categorical_names = X_train.columns[categorical_cols]\n",
    "\n",
    "    X_train_encoded = pd.get_dummies(X_train[categorical_names])\n",
    "    X_test_encoded = pd.get_dummies(X_test[categorical_names])\n",
    "\n",
    "    X_train_encoded, X_test_encoded = X_train_encoded.align(X_test_encoded, join='outer', axis=1, fill_value=0)\n",
    "    \n",
    "    X_train = X_train.drop(columns=categorical_names)\n",
    "    X_test = X_test.drop(columns=categorical_names)\n",
    "\n",
    "    X_train = pd.concat([X_train, X_train_encoded], axis=1)\n",
    "    X_test = pd.concat([X_test, X_test_encoded], axis=1)\n",
    "\n",
    "    return X_train, X_test"
   ]
  },
  {
   "cell_type": "code",
   "execution_count": 55,
   "metadata": {},
   "outputs": [],
   "source": [
    "X_train, X_test = encoding(X_train, X_test)"
   ]
  },
  {
   "cell_type": "code",
   "execution_count": 56,
   "metadata": {},
   "outputs": [],
   "source": [
    "X_train, X_test = select_features(X_train, X_test, y_train)"
   ]
  },
  {
   "cell_type": "code",
   "execution_count": 59,
   "metadata": {},
   "outputs": [],
   "source": [
    "X_train.to_csv(\"../data/preprocessed_X_train.csv\", index=False)"
   ]
  },
  {
   "cell_type": "code",
   "execution_count": 60,
   "metadata": {},
   "outputs": [],
   "source": [
    "X_test.to_csv(\"../data/preprocessed_X_test.csv\", index=False)"
   ]
  },
  {
   "cell_type": "code",
   "execution_count": 61,
   "metadata": {},
   "outputs": [],
   "source": [
    "y_train.to_csv(\"../data/preprocessed_y_train.csv\", index=False)"
   ]
  },
  {
   "cell_type": "code",
   "execution_count": 62,
   "metadata": {},
   "outputs": [],
   "source": [
    "y_test.to_csv(\"../data/preprocessed_y_test.csv\", index=False)"
   ]
  },
  {
   "cell_type": "code",
   "execution_count": 26,
   "metadata": {},
   "outputs": [],
   "source": [
    "# Privileged: 1, Unprivileged: 0\n",
    "df['race'] = df['race'].apply(lambda x: 1 if x == 'White' else 0)\n",
    "df['ethnicity'] = df['ethnicity'].apply(lambda x: 1 if x == 'Not Hispanic or Latino' else 0)\n",
    "df['sex'] = df['sex'].apply(lambda x: 1 if x == 'Male' else 0)\n",
    "df['age'] = df['age'].apply(lambda x: 0 if x in ['<25', '>74'] else 1)"
   ]
  },
  {
   "cell_type": "code",
   "execution_count": 27,
   "metadata": {},
   "outputs": [
    {
     "name": "stdout",
     "output_type": "stream",
     "text": [
      "<class 'pandas.core.frame.DataFrame'>\n",
      "Int64Index: 5165521 entries, 0 to 16080206\n",
      "Data columns (total 25 columns):\n",
      " #   Column                                    Dtype  \n",
      "---  ------                                    -----  \n",
      " 0   state_code                                object \n",
      " 1   conforming_loan_limit                     object \n",
      " 2   loan_product_type                         object \n",
      " 3   dwelling_category                         object \n",
      " 4   ethnicity                                 int64  \n",
      " 5   race                                      int64  \n",
      " 6   sex                                       int64  \n",
      " 7   preapproval                               int64  \n",
      " 8   loan_purpose                              int64  \n",
      " 9   loan_amount                               int64  \n",
      " 10  combined_loan_to_value_ratio              float64\n",
      " 11  interest_rate                             float64\n",
      " 12  rate_spread                               float64\n",
      " 13  hoepa_status                              int64  \n",
      " 14  total_loan_costs                          float64\n",
      " 15  origination_charges                       float64\n",
      " 16  loan_term                                 int64  \n",
      " 17  property_value                            float64\n",
      " 18  occupancy_type                            int64  \n",
      " 19  manufactured_home_land_property_interest  int64  \n",
      " 20  total_units                               int64  \n",
      " 21  income                                    float64\n",
      " 22  debt_to_income_ratio                      object \n",
      " 23  age                                       int64  \n",
      " 24  loan_approved                             object \n",
      "dtypes: float64(7), int64(12), object(6)\n",
      "memory usage: 1.0+ GB\n"
     ]
    }
   ],
   "source": [
    "df.info()"
   ]
  },
  {
   "cell_type": "code",
   "execution_count": 28,
   "metadata": {},
   "outputs": [],
   "source": [
    "recode_map = {\n",
    "    'preapproval': {2: 0},\n",
    "    'loan_purpose': {1: 'Purchase', 2: 'Improvement', 31: 'Refinancing', 32: 'Cash-out', 4: 'Other', 5: 'N/a'},\n",
    "    'hoepa_status': {1: 'Yes', 2: 'No', 3: 'N/a'},\n",
    "    'occupancy_type': {1: 'Principal', 2: 'Second', 3: 'Investment'},\n",
    "    'manufactured_home_land_property_interest': {1: 'Direct', 2: 'Indirect', 3: 'Paid', 4: 'Unpaid', 5: 'N/a', 1111: 'Exempt'},\n",
    "    'debt_to_income_ratio': {'39.0': '39', '38.0': '38'}\n",
    "    }\n",
    "df = recode_categorical_cols(df, recode_map)\n",
    "df['preapproval'] = df['preapproval'].astype(object)"
   ]
  },
  {
   "cell_type": "code",
   "execution_count": 29,
   "metadata": {},
   "outputs": [],
   "source": [
    "df.to_csv(\"../data/preprocessed_2022_public_lar.csv\", index=False)"
   ]
  },
  {
   "cell_type": "code",
   "execution_count": 30,
   "metadata": {},
   "outputs": [],
   "source": [
    "scaler = StandardScaler()\n",
    "numeric_cols = ['loan_amount', 'combined_loan_to_value_ratio', 'interest_rate', 'rate_spread', 'total_loan_costs', 'origination_charges', 'loan_term', 'property_value', 'total_units', 'income']\n",
    "for col in numeric_cols:\n",
    "    df[col] = scaler.fit_transform(df[[col]])"
   ]
  },
  {
   "cell_type": "code",
   "execution_count": 31,
   "metadata": {},
   "outputs": [
    {
     "name": "stdout",
     "output_type": "stream",
     "text": [
      "<class 'pandas.core.frame.DataFrame'>\n",
      "Int64Index: 5165521 entries, 0 to 16080206\n",
      "Data columns (total 25 columns):\n",
      " #   Column                                    Dtype  \n",
      "---  ------                                    -----  \n",
      " 0   state_code                                object \n",
      " 1   conforming_loan_limit                     object \n",
      " 2   loan_product_type                         object \n",
      " 3   dwelling_category                         object \n",
      " 4   ethnicity                                 int64  \n",
      " 5   race                                      int64  \n",
      " 6   sex                                       int64  \n",
      " 7   preapproval                               object \n",
      " 8   loan_purpose                              object \n",
      " 9   loan_amount                               float64\n",
      " 10  combined_loan_to_value_ratio              float64\n",
      " 11  interest_rate                             float64\n",
      " 12  rate_spread                               float64\n",
      " 13  hoepa_status                              object \n",
      " 14  total_loan_costs                          float64\n",
      " 15  origination_charges                       float64\n",
      " 16  loan_term                                 float64\n",
      " 17  property_value                            float64\n",
      " 18  occupancy_type                            object \n",
      " 19  manufactured_home_land_property_interest  object \n",
      " 20  total_units                               float64\n",
      " 21  income                                    float64\n",
      " 22  debt_to_income_ratio                      object \n",
      " 23  age                                       int64  \n",
      " 24  loan_approved                             object \n",
      "dtypes: float64(10), int64(4), object(11)\n",
      "memory usage: 1.0+ GB\n"
     ]
    }
   ],
   "source": [
    "df.info()"
   ]
  },
  {
   "cell_type": "code",
   "execution_count": 32,
   "metadata": {},
   "outputs": [],
   "source": [
    "categorical_cols = list(range(0, 4)) + [8, 13, 18, 19, 22]\n",
    "encoded = pd.get_dummies(df.iloc[:, categorical_cols])\n",
    "df = df.reset_index(drop=True)\n",
    "encoded = encoded.reset_index(drop=True)\n",
    "df = pd.concat([df, encoded], axis=1)\n",
    "df = df.drop(df.columns[categorical_cols], axis=1)"
   ]
  },
  {
   "cell_type": "code",
   "execution_count": 33,
   "metadata": {},
   "outputs": [],
   "source": [
    "pd.set_option('display.max_rows', None)"
   ]
  },
  {
   "cell_type": "code",
   "execution_count": 34,
   "metadata": {},
   "outputs": [
    {
     "data": {
      "text/plain": [
       "['ethnicity',\n",
       " 'race',\n",
       " 'sex',\n",
       " 'preapproval',\n",
       " 'loan_amount',\n",
       " 'combined_loan_to_value_ratio',\n",
       " 'interest_rate',\n",
       " 'rate_spread',\n",
       " 'total_loan_costs',\n",
       " 'origination_charges',\n",
       " 'loan_term',\n",
       " 'property_value',\n",
       " 'total_units',\n",
       " 'income',\n",
       " 'age',\n",
       " 'loan_approved',\n",
       " 'state_code_AK',\n",
       " 'state_code_AL',\n",
       " 'state_code_AR',\n",
       " 'state_code_AZ',\n",
       " 'state_code_CA',\n",
       " 'state_code_CO',\n",
       " 'state_code_CT',\n",
       " 'state_code_DC',\n",
       " 'state_code_DE',\n",
       " 'state_code_FL',\n",
       " 'state_code_GA',\n",
       " 'state_code_GU',\n",
       " 'state_code_HI',\n",
       " 'state_code_IA',\n",
       " 'state_code_ID',\n",
       " 'state_code_IL',\n",
       " 'state_code_IN',\n",
       " 'state_code_KS',\n",
       " 'state_code_KY',\n",
       " 'state_code_LA',\n",
       " 'state_code_MA',\n",
       " 'state_code_MD',\n",
       " 'state_code_ME',\n",
       " 'state_code_MI',\n",
       " 'state_code_MN',\n",
       " 'state_code_MO',\n",
       " 'state_code_MS',\n",
       " 'state_code_MT',\n",
       " 'state_code_NC',\n",
       " 'state_code_ND',\n",
       " 'state_code_NE',\n",
       " 'state_code_NH',\n",
       " 'state_code_NJ',\n",
       " 'state_code_NM',\n",
       " 'state_code_NV',\n",
       " 'state_code_NY',\n",
       " 'state_code_OH',\n",
       " 'state_code_OK',\n",
       " 'state_code_OR',\n",
       " 'state_code_PA',\n",
       " 'state_code_PR',\n",
       " 'state_code_RI',\n",
       " 'state_code_SC',\n",
       " 'state_code_SD',\n",
       " 'state_code_TN',\n",
       " 'state_code_TX',\n",
       " 'state_code_UT',\n",
       " 'state_code_VA',\n",
       " 'state_code_VI',\n",
       " 'state_code_VT',\n",
       " 'state_code_WA',\n",
       " 'state_code_WI',\n",
       " 'state_code_WV',\n",
       " 'state_code_WY',\n",
       " 'conforming_loan_limit_C',\n",
       " 'conforming_loan_limit_NC',\n",
       " 'conforming_loan_limit_U',\n",
       " 'loan_product_type_Conventional:First Lien',\n",
       " 'loan_product_type_Conventional:Subordinate Lien',\n",
       " 'loan_product_type_FHA:First Lien',\n",
       " 'loan_product_type_FHA:Subordinate Lien',\n",
       " 'loan_product_type_FSA/RHS:First Lien',\n",
       " 'loan_product_type_FSA/RHS:Subordinate Lien',\n",
       " 'loan_product_type_VA:First Lien',\n",
       " 'loan_product_type_VA:Subordinate Lien',\n",
       " 'dwelling_category_Multifamily:Manufactured',\n",
       " 'dwelling_category_Multifamily:Site-Built',\n",
       " 'dwelling_category_Single Family (1-4 Units):Manufactured',\n",
       " 'dwelling_category_Single Family (1-4 Units):Site-Built',\n",
       " 'loan_purpose_Cash-out',\n",
       " 'loan_purpose_Improvement',\n",
       " 'loan_purpose_N/a',\n",
       " 'loan_purpose_Other',\n",
       " 'loan_purpose_Purchase',\n",
       " 'loan_purpose_Refinancing',\n",
       " 'hoepa_status_N/a',\n",
       " 'hoepa_status_No',\n",
       " 'hoepa_status_Yes',\n",
       " 'occupancy_type_Investment',\n",
       " 'occupancy_type_Principal',\n",
       " 'occupancy_type_Second',\n",
       " 'manufactured_home_land_property_interest_Direct',\n",
       " 'manufactured_home_land_property_interest_Exempt',\n",
       " 'manufactured_home_land_property_interest_Indirect',\n",
       " 'manufactured_home_land_property_interest_N/a',\n",
       " 'manufactured_home_land_property_interest_Paid',\n",
       " 'manufactured_home_land_property_interest_Unpaid',\n",
       " 'debt_to_income_ratio_38.0',\n",
       " 'debt_to_income_ratio_39.0',\n",
       " 'debt_to_income_ratio_20%-<30%',\n",
       " 'debt_to_income_ratio_30%-<36%',\n",
       " 'debt_to_income_ratio_36',\n",
       " 'debt_to_income_ratio_37',\n",
       " 'debt_to_income_ratio_38',\n",
       " 'debt_to_income_ratio_39',\n",
       " 'debt_to_income_ratio_40',\n",
       " 'debt_to_income_ratio_41',\n",
       " 'debt_to_income_ratio_42',\n",
       " 'debt_to_income_ratio_43',\n",
       " 'debt_to_income_ratio_44',\n",
       " 'debt_to_income_ratio_45',\n",
       " 'debt_to_income_ratio_46',\n",
       " 'debt_to_income_ratio_47',\n",
       " 'debt_to_income_ratio_48',\n",
       " 'debt_to_income_ratio_49',\n",
       " 'debt_to_income_ratio_50%-60%',\n",
       " 'debt_to_income_ratio_<20%',\n",
       " 'debt_to_income_ratio_>60%',\n",
       " 'debt_to_income_ratio_Exempt']"
      ]
     },
     "execution_count": 34,
     "metadata": {},
     "output_type": "execute_result"
    }
   ],
   "source": [
    "df.columns.tolist()"
   ]
  },
  {
   "cell_type": "code",
   "execution_count": 18,
   "metadata": {},
   "outputs": [],
   "source": [
    "df.to_csv(\"../data/preprocessed_data.csv\", index=False)"
   ]
  },
  {
   "cell_type": "code",
   "execution_count": 3,
   "metadata": {},
   "outputs": [],
   "source": [
    "df = pd.read_csv(\"../data/preprocessed_data.csv\")"
   ]
  },
  {
   "cell_type": "code",
   "execution_count": 35,
   "metadata": {},
   "outputs": [],
   "source": [
    "sampled_df = df.sample(100000, random_state=334)"
   ]
  },
  {
   "cell_type": "code",
   "execution_count": 36,
   "metadata": {},
   "outputs": [],
   "source": [
    "sampled_df = sampled_df.reset_index(drop=True)"
   ]
  },
  {
   "cell_type": "code",
   "execution_count": 37,
   "metadata": {},
   "outputs": [],
   "source": [
    "sampled_df.to_csv(\"../data/sampled_preprocessed_data.csv\", index=False)"
   ]
  },
  {
   "cell_type": "markdown",
   "metadata": {},
   "source": [
    "## Columns\n",
    "* `activity_year`: The calendar year the data submission covers\n",
    "* `lei`: A financial institution’s Legal Entity Identifier\n",
    "* `derived_msa-md`: The 5 digit derived MSA (metropolitan statistical area) or MD (metropolitan division) code. An MSA/MD is an area that has at least one urbanized area of 50,000 or more population.\n",
    "* `state_code`: Two-letter state code\n",
    "* `country_code`: State-county FIPS code\n",
    "* `census_tract`: 11 digit census tract number\n",
    "* `derived_loan_product_type`: Derived loan product type from Loan Type and Lien Status fields for easier querying of specific records\n",
    "    - Conventional:First Lien\n",
    "    - FHA:First Lien\n",
    "    - VA:First Lien\n",
    "    - FSA/RHS:First Lien\n",
    "    - Conventional:Subordinate Lien\n",
    "    - FHA:Subordinate Lien\n",
    "    - VA:Subordinate Lien\n",
    "    - FSA/RHS:Subordinate Lien\n",
    "* `derived_dwelling_category`: Derived dwelling type from Construction Method and Total Units fields for easier querying of specific records\n",
    "    - Single Family (1-4 Units):Site-Built\n",
    "    - Multifamily:Site-Built (5+ Units)\n",
    "    - Single Family (1-4 Units):Manufactured\n",
    "    - Multifamily:Manufactured (5+ Units)\n",
    "* `conforming_loan_limit`: Indicates whether the reported loan amount exceeds the GSE (government sponsored enterprise) conforming loan limit\n",
    "    - C (Conforming)\n",
    "    - NC (Nonconforming)\n",
    "    - U (Undetermined)\n",
    "    - NA (Not Applicable)\n",
    "* `derived_ethnicity`: Single aggregated ethnicity categorization derived from applicant/borrower and co-applicant/co-borrower ethnicity fields\n",
    "    - Hispanic or Latino\n",
    "    - Not Hispanic or Latino\n",
    "    - Joint\n",
    "    - Ethnicity Not Available\n",
    "    - Free Form Text Only\n",
    "* `derived_race`: Single aggregated race categorization derived from applicant/borrower and co-applicant/co-borrower race fields\n",
    "    - American Indian or Alaska Native\n",
    "    - Asian\n",
    "    - Black or African American\n",
    "    - Native Hawaiian or Other Pacific Islander\n",
    "    - White\n",
    "    - 2 or more minority races\n",
    "    - Joint\n",
    "    - Free Form Text Only\n",
    "    - Race Not Available\n",
    "* `derived_sex`: Single aggregated sex categorization derived from applicant/borrower and co-applicant/co-borrower sex fields\n",
    "    - Male\n",
    "    - Female\n",
    "    - Joint\n",
    "    - Sex Not Available\n",
    "* `action_taken`: The action taken on the covered loan or application\n",
    "    - 1 - Loan originated\n",
    "    - 2 - Application approved but not accepted\n",
    "    - 3 - Application denied\n",
    "    - 4 - Application withdrawn by applicant\n",
    "    - 5 - File closed for incompleteness\n",
    "    - 6 - Purchased loan\n",
    "    - 7 - Preapproval request denied\n",
    "    - 8 - Preapproval request approved but not accepted\n",
    "* `purchaser_type`: Type of entity purchasing a covered loan from the institution\n",
    "    - 0 - Not applicable\n",
    "    - 1 - Fannie Mae\n",
    "    - 2 - Ginnie Mae\n",
    "    - 3 - Freddie Mac\n",
    "    - 4 - Farmer Mac\n",
    "    - 5 - Private securitizer\n",
    "    - 6 - Commercial bank, savings bank, or savings association\n",
    "    - 71 - Credit union, mortgage company, or finance company\n",
    "    - 72 - Life insurance company\n",
    "    - 8 - Affiliate institution\n",
    "    - 9 - Other type of purchaser\n",
    "* `preapproval`: Whether the covered loan or application involved a request for a preapproval of a home purchase loan under a preapproval program\n",
    "    - 1 - Preapproval requested\n",
    "    - 2 - Preapproval not requested\n",
    "* `loan_type`: The type of covered loan or application\n",
    "    - 1 - Conventional (not insured or guaranteed by FHA, VA, RHS, or FSA)\n",
    "    - 2 - Federal Housing Administration insured (FHA)\n",
    "    - 3 - Veterans Affairs guaranteed (VA)\n",
    "    - 4 - USDA Rural Housing Service or Farm Service Agency guaranteed (RHS or FSA)\n",
    "* `loan_purpose`\n",
    "    - 1 - Home purchase\n",
    "    - 2 - Home improvement\n",
    "    - 31 - Refinancing\n",
    "    - 32 - Cash-out refinancing\n",
    "    - 4 - Other purpose\n",
    "    - 5 - Not applicable\n",
    "* `lien_status`\n",
    "    - 1 - Secured by a first lien\n",
    "    - 2 - Secured by a subordinate lien\n",
    "* `reverse_mortgage`: Whether the covered loan or application is for a reverse mortgage\n",
    "    - 1 - Reverse mortgage\n",
    "    - 2 - Not a reverse mortgage\n",
    "    - 1111 - Exempt\n",
    "* `open-end_line_of_credit`: Whether the covered loan or application is for an open-end line of credit\n",
    "    - 1 - Open-end line of credit\n",
    "    - 2 - Not an open-end line of credit\n",
    "    - 1111 - Exempt\n",
    "* `business_or_commercial_purpose`: Whether the covered loan or application is primarily for a business or commercial purpose\n",
    "    - 1 - Primarily for a business or commercial purpose\n",
    "    - 2 - Not primarily for a business or commercial purpose\n",
    "    - 1111 - Exempt\n",
    "* `loan_amount`: The amount of the covered loan, or the amount applied for\n",
    "* `combined_loan_to_value_ratio`: The ratio of the total amount of debt secured by the property to the value of the property relied on in making the credit decision\n",
    "* `interest_rate`: The interest rate for the covered loan or application\n",
    "* `rate_spread`: The difference between the covered loan’s annual percentage rate (APR) and the average prime offer rate (APOR) for a comparable transaction as of the date the interest rate is set\n",
    "* `hoepa_status`: Whether the covered loan is a high-cost mortgage\n",
    "    - 1 - High-cost mortgage\n",
    "    - 2 - Not a high-cost mortgage\n",
    "    - 3 - Not applicable\n",
    "* `total_loan_costs`: The amount, in dollars, of total loan costs\n",
    "* `total_points_and_fees`: The total points and fees, in dollars, charged in connection with the covered loan\n",
    "* `origination_charges`: The total of all itemized amounts, in dollars, that are designated borrower-paid at or before closing\n",
    "* `discount_points`: The points paid, in dollars, to the creditor to reduce the interest rate\n",
    "* `lender_credits`: The amount, in dollars, of lender credits\n",
    "* `loan_term`: The number of months after which the legal obligation will mature or terminate, or would have matured or terminated\n",
    "* `prepayment_penalty_term`: The term, in months, of any prepayment penalty\n",
    "* `intro_rate_period`: The number of months, or proposed number of months in the case of an application, until the first date the interest rate may change after closing or account opening\n",
    "* `negative_amortization`: Whether the contractual terms include, or would have included, a term that would cause the covered loan to be a negative amortization loan\n",
    "    - 1 - Negative amortization\n",
    "    - 2 - No negative amortization\n",
    "    - 1111 - Exempt\n",
    "* `interest_only_payment`: Whether the contractual terms include, or would have included, interest-only payments\n",
    "    - 1 - Interest-only payments\n",
    "    - 2 - No interest-only payments\n",
    "    - 1111 - Exempt\n",
    "* `balloon_payment`: Whether the contractual terms include, or would have included, a balloon payment\n",
    "    - 1 - Balloon payment\n",
    "    - 2 - No balloon payment\n",
    "    - 1111 - Exempt\n",
    "* `other_nonamortizing_features`: Whether the contractual terms include, or would have included, any term, other than those described in Paragraphs 1003.4(a)(27)(i), (ii), and (iii) that would allow for payments other than fully amortizing payments during the loan term\n",
    "    - 1 - Other non-fully amortizing features\n",
    "    - 2 - No other non-fully amortizing features\n",
    "    - 1111 - Exempt\n",
    "* `property_value`: The value of the property securing the covered loan or, in the case of an application, proposed to secure the covered loan, relied on in making the credit decision\n",
    "* `construction_method`: Construction method for the dwelling\n",
    "    - 1 - Site-built\n",
    "    - 2 - Manufactured home\n",
    "* `occupancy_type`: Occupancy type for the dwelling\n",
    "    - 1 - Principal residence\n",
    "    - 2 - Second residence\n",
    "    - 3 - Investment property\n",
    "* `manufactured_home_secured_property_type`: Whether the covered loan or application is, or would have been, secured by a manufactured home and land, or by a manufactured home and not land\n",
    "    - 1 - Manufactured home and land\n",
    "    - 2 - Manufactured home and not land\n",
    "    - 3 - Not applicable\n",
    "    - 1111 - Exempt\n",
    "* `manufactured_home_land_property_interest`: The applicant’s or borrower’s land property interest in the land on which a manufactured home is, or will be, located\n",
    "    - 1 - Direct ownership\n",
    "    - 2 - Indirect ownership\n",
    "    - 3 - Paid leasehold\n",
    "    - 4 - Unpaid leasehold\n",
    "    - 5 - Not applicable\n",
    "    - 1111 - Exempt\n",
    "* `total_units`: The number of individual dwelling units related to the property securing the covered loan or, in the case of an application, proposed to secure the covered loan\n",
    "    - 1\n",
    "    - 2\n",
    "    - 3\n",
    "    - 4\n",
    "    - 5-24\n",
    "    - 25-49\n",
    "    - 50-99\n",
    "    - 100-149\n",
    "    - \\>149\n",
    "* `ageapplicant`: The age of the applicant\n",
    "    - <25\n",
    "    - 25-34\n",
    "    - 35-44\n",
    "    - 45-54 \n",
    "    - 55-64\n",
    "    - 65-74\n",
    "    - \\>74\n",
    "    - 8888\n",
    "* `multifamily_affordable_units`: Reported values as a percentage, rounded to the nearest whole number, of the value reported for Total Units \n",
    "* `income`: The gross annual income, in thousands of dollars, relied on in making the credit decision, or if a credit decision was not made, the gross annual income relied on in processing the application\n",
    "* `debt_to_income_ratio`: The ratio, as a percentage, of the applicant’s or borrower’s total monthly debt to the total monthly income relied on in making the credit decision\n",
    "    - <20%\n",
    "    - 20%-<30%\n",
    "    - 30%-<36%\n",
    "    - 37%\n",
    "    - 38%\n",
    "    - 39%\n",
    "    - 40%\n",
    "    - 41%\n",
    "    - 42%\n",
    "    - 43%\n",
    "    - 44%\n",
    "    - 45%\n",
    "    - 46%\n",
    "    - 47%\n",
    "    - 48%\n",
    "    - 49%\n",
    "    - 50%-60%\n",
    "    - \\>60%\n",
    "    - NA\n",
    "    - Exempt\n"
   ]
  },
  {
   "cell_type": "markdown",
   "metadata": {},
   "source": [
    "## Steps\n",
    "1. Identify Protected Attributes (e.g., race, age, gender, income level, etc.)\n",
    "2. Data Cleaning (e.g., handling missing values, removing duplicates, and correcting errors)\n",
    "3. Feature Selection\n",
    "4. Data Transformation (e.g., standardization, one-hot encoding, etc.)\n",
    "5. Exploratory Data Analysis (e.g., summary, visualization, bias exploration)\n",
    "6. Data Splitting\n",
    "7. Model Selection (e.g., logistic regression, decision trees, random forest, XGBoost, neural networks)\n",
    "8. Hyperparamter Tuning\n",
    "9. Model Evaluation\n",
    "10. Suggestion on Bias Mitigation"
   ]
  }
 ],
 "metadata": {
  "kernelspec": {
   "display_name": "base",
   "language": "python",
   "name": "python3"
  },
  "language_info": {
   "codemirror_mode": {
    "name": "ipython",
    "version": 3
   },
   "file_extension": ".py",
   "mimetype": "text/x-python",
   "name": "python",
   "nbconvert_exporter": "python",
   "pygments_lexer": "ipython3",
   "version": "3.8.5"
  }
 },
 "nbformat": 4,
 "nbformat_minor": 2
}

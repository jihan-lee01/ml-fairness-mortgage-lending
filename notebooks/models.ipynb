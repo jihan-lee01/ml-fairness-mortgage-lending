{
 "cells": [
  {
   "cell_type": "code",
   "execution_count": 3,
   "metadata": {},
   "outputs": [],
   "source": [
    "import numpy as np\n",
    "import pandas as pd\n",
    "from sklearn.model_selection import KFold, GridSearchCV\n",
    "from sklearn.ensemble import RandomForestClassifier\n",
    "from sklearn.neural_network import MLPClassifier\n",
    "from sklearn.linear_model import LogisticRegression\n",
    "from xgboost import XGBClassifier\n",
    "from sklearn.metrics import accuracy_score, f1_score, precision_score, recall_score, roc_auc_score, roc_curve, confusion_matrix, classification_report\n",
    "from imblearn.over_sampling import SMOTE\n",
    "from sklearn.inspection import permutation_importance\n",
    "from sklearn.preprocessing import StandardScaler\n",
    "from sklearn.impute import SimpleImputer\n",
    "from aif360.datasets import BinaryLabelDataset\n",
    "from aif360.metrics import BinaryLabelDatasetMetric, ClassificationMetric"
   ]
  },
  {
   "cell_type": "code",
   "execution_count": 341,
   "metadata": {},
   "outputs": [],
   "source": [
    "X_train = pd.read_csv('../data/preprocessed_X_train.csv')\n",
    "X_test = pd.read_csv('../data/preprocessed_X_test.csv')\n",
    "y_train = pd.read_csv('../data/preprocessed_y_train.csv')\n",
    "y_test = pd.read_csv('../data/preprocessed_y_test.csv')"
   ]
  },
  {
   "cell_type": "code",
   "execution_count": 342,
   "metadata": {},
   "outputs": [],
   "source": [
    "columns_to_drop = ['interest_rate', 'rate_spread', 'origination_charges', 'total_loan_costs']\n",
    "X_train = X_train.drop(columns=columns_to_drop, axis=1)\n",
    "X_test = X_test.drop(columns=columns_to_drop, axis=1)"
   ]
  },
  {
   "cell_type": "code",
   "execution_count": null,
   "metadata": {},
   "outputs": [],
   "source": [
    "X_train.info()"
   ]
  },
  {
   "cell_type": "code",
   "execution_count": 47,
   "metadata": {},
   "outputs": [],
   "source": [
    "feature_names = X_train.columns.tolist()"
   ]
  },
  {
   "cell_type": "code",
   "execution_count": 343,
   "metadata": {},
   "outputs": [],
   "source": [
    "X_train = X_train.to_numpy()\n",
    "X_test = X_test.to_numpy()\n",
    "y_train = y_train.to_numpy().flatten()\n",
    "y_test = y_test.to_numpy().flatten()"
   ]
  },
  {
   "cell_type": "code",
   "execution_count": 344,
   "metadata": {},
   "outputs": [],
   "source": [
    "def eval(model, X, y):\n",
    "    kfold = KFold(n_splits=10)\n",
    "\n",
    "    metrics = {\n",
    "        \"Accuracy\": [],\n",
    "        \"F1\": [],\n",
    "        \"ROC AUC\": [],\n",
    "        \"Precision\": [],\n",
    "        \"Recall\": []\n",
    "    }\n",
    "\n",
    "    for train_index, test_index in kfold.split(X):\n",
    "        X_train, X_test = X[train_index], X[test_index]\n",
    "        y_train, y_test = y[train_index], y[test_index]\n",
    "\n",
    "        model.fit(X_train, y_train)\n",
    "        y_pred = model.predict(X_test)\n",
    "        y_pred_prob = model.predict_proba(X_test)[:, 1]\n",
    "\n",
    "        metrics['Accuracy'].append(accuracy_score(y_test, y_pred))\n",
    "        metrics['F1'].append(f1_score(y_test, y_pred))\n",
    "        metrics['ROC AUC'].append(roc_auc_score(y_test, y_pred_prob))\n",
    "        metrics['Precision'].append(precision_score(y_test, y_pred))\n",
    "        metrics['Recall'].append(recall_score(y_test, y_pred))\n",
    "    \n",
    "    metrics = {metric: np.mean(value) for metric, value in metrics.items()}\n",
    "\n",
    "    return metrics"
   ]
  },
  {
   "cell_type": "code",
   "execution_count": 335,
   "metadata": {},
   "outputs": [],
   "source": [
    "lr = LogisticRegression()"
   ]
  },
  {
   "cell_type": "code",
   "execution_count": null,
   "metadata": {},
   "outputs": [],
   "source": [
    "metrics = eval(lr, X_train, y_train)\n",
    "metrics"
   ]
  },
  {
   "cell_type": "code",
   "execution_count": 345,
   "metadata": {},
   "outputs": [],
   "source": [
    "rf = RandomForestClassifier()\n",
    "xgb = XGBClassifier()\n",
    "mlp = MLPClassifier()\n",
    "\n",
    "models = [rf, xgb, mlp]"
   ]
  },
  {
   "cell_type": "code",
   "execution_count": 346,
   "metadata": {},
   "outputs": [
    {
     "name": "stderr",
     "output_type": "stream",
     "text": [
      "/Users/jihan/anaconda/lib/python3.8/site-packages/sklearn/neural_network/_multilayer_perceptron.py:691: ConvergenceWarning: Stochastic Optimizer: Maximum iterations (200) reached and the optimization hasn't converged yet.\n",
      "  warnings.warn(\n",
      "/Users/jihan/anaconda/lib/python3.8/site-packages/sklearn/neural_network/_multilayer_perceptron.py:691: ConvergenceWarning: Stochastic Optimizer: Maximum iterations (200) reached and the optimization hasn't converged yet.\n",
      "  warnings.warn(\n",
      "/Users/jihan/anaconda/lib/python3.8/site-packages/sklearn/neural_network/_multilayer_perceptron.py:691: ConvergenceWarning: Stochastic Optimizer: Maximum iterations (200) reached and the optimization hasn't converged yet.\n",
      "  warnings.warn(\n",
      "/Users/jihan/anaconda/lib/python3.8/site-packages/sklearn/neural_network/_multilayer_perceptron.py:691: ConvergenceWarning: Stochastic Optimizer: Maximum iterations (200) reached and the optimization hasn't converged yet.\n",
      "  warnings.warn(\n",
      "/Users/jihan/anaconda/lib/python3.8/site-packages/sklearn/neural_network/_multilayer_perceptron.py:691: ConvergenceWarning: Stochastic Optimizer: Maximum iterations (200) reached and the optimization hasn't converged yet.\n",
      "  warnings.warn(\n",
      "/Users/jihan/anaconda/lib/python3.8/site-packages/sklearn/neural_network/_multilayer_perceptron.py:698: UserWarning: Training interrupted by user.\n",
      "  warnings.warn(\"Training interrupted by user.\")\n"
     ]
    }
   ],
   "source": [
    "result = {}\n",
    "for model in models:\n",
    "    metrics = eval(model, X_train, y_train)\n",
    "    result[model.__class__.__name__] = metrics\n",
    "\n",
    "result"
   ]
  },
  {
   "cell_type": "code",
   "execution_count": 24,
   "metadata": {},
   "outputs": [],
   "source": [
    "smote = SMOTE(random_state=334)\n",
    "X_train_smote, y_train_smote = smote.fit_resample(X_train, y_train)"
   ]
  },
  {
   "cell_type": "code",
   "execution_count": 25,
   "metadata": {},
   "outputs": [],
   "source": [
    "def train_evaluate(model, X_train, y_train, X_test, y_test):\n",
    "    model.fit(X_train, y_train)\n",
    "    y_pred = model.predict(X_test)\n",
    "    return classification_report(y_test, y_pred)"
   ]
  },
  {
   "cell_type": "code",
   "execution_count": null,
   "metadata": {},
   "outputs": [],
   "source": [
    "smote_result = {}\n",
    "models.append(lr)\n",
    "for model in models:\n",
    "    report = train_evaluate(model, X_train_smote, y_train_smote, X_test, y_test)\n",
    "    smote_result[model.__class__.__name__] = report"
   ]
  },
  {
   "cell_type": "code",
   "execution_count": 29,
   "metadata": {},
   "outputs": [
    {
     "name": "stdout",
     "output_type": "stream",
     "text": [
      "              precision    recall  f1-score   support\n",
      "\n",
      "           0       0.99      0.99      0.99      7627\n",
      "           1       1.00      1.00      1.00     22373\n",
      "\n",
      "    accuracy                           0.99     30000\n",
      "   macro avg       0.99      0.99      0.99     30000\n",
      "weighted avg       0.99      0.99      0.99     30000\n",
      "\n"
     ]
    }
   ],
   "source": [
    "print(smote_result['RandomForestClassifier'])"
   ]
  },
  {
   "cell_type": "code",
   "execution_count": 30,
   "metadata": {},
   "outputs": [
    {
     "name": "stdout",
     "output_type": "stream",
     "text": [
      "              precision    recall  f1-score   support\n",
      "\n",
      "           0       0.99      0.99      0.99      7627\n",
      "           1       1.00      1.00      1.00     22373\n",
      "\n",
      "    accuracy                           0.99     30000\n",
      "   macro avg       0.99      0.99      0.99     30000\n",
      "weighted avg       0.99      0.99      0.99     30000\n",
      "\n"
     ]
    }
   ],
   "source": [
    "print(smote_result['XGBClassifier'])"
   ]
  },
  {
   "cell_type": "code",
   "execution_count": 31,
   "metadata": {},
   "outputs": [
    {
     "name": "stdout",
     "output_type": "stream",
     "text": [
      "              precision    recall  f1-score   support\n",
      "\n",
      "           0       0.98      0.98      0.98      7627\n",
      "           1       0.99      0.99      0.99     22373\n",
      "\n",
      "    accuracy                           0.99     30000\n",
      "   macro avg       0.99      0.99      0.99     30000\n",
      "weighted avg       0.99      0.99      0.99     30000\n",
      "\n"
     ]
    }
   ],
   "source": [
    "print(smote_result['MLPClassifier'])"
   ]
  },
  {
   "cell_type": "code",
   "execution_count": 32,
   "metadata": {},
   "outputs": [
    {
     "name": "stdout",
     "output_type": "stream",
     "text": [
      "              precision    recall  f1-score   support\n",
      "\n",
      "           0       0.53      0.70      0.60      7627\n",
      "           1       0.88      0.79      0.83     22373\n",
      "\n",
      "    accuracy                           0.76     30000\n",
      "   macro avg       0.71      0.74      0.72     30000\n",
      "weighted avg       0.79      0.76      0.77     30000\n",
      "\n"
     ]
    }
   ],
   "source": [
    "print(smote_result['LogisticRegression'])"
   ]
  },
  {
   "cell_type": "code",
   "execution_count": 35,
   "metadata": {},
   "outputs": [],
   "source": [
    "def get_feature_importance(model, X_train, y_train):\n",
    "    importances = model.feature_importances_\n",
    "    perm_importances = permutation_importance(model, X_train, y_train).importances_mean\n",
    "\n",
    "    imp_indices = np.argsort(importances)[::-1]\n",
    "    top10_imp_indices = imp_indices[:10]\n",
    "\n",
    "    perm_indices = np.argsort(perm_importances)[::-1]\n",
    "    top10_perm_indices = perm_indices[:10]\n",
    "\n",
    "    return importances[top10_imp_indices], perm_importances[top10_perm_indices]"
   ]
  },
  {
   "cell_type": "code",
   "execution_count": 54,
   "metadata": {},
   "outputs": [],
   "source": [
    "xgb.fit(X_train_smote, y_train_smote)\n",
    "importances = xgb.feature_importances_\n",
    "imp_dict = dict(zip(feature_names, importances))\n",
    "imp_df = pd.DataFrame(sorted(imp_dict.items(), key=lambda x: x[1], reverse=True), columns=['Feature', 'Importance'])"
   ]
  },
  {
   "cell_type": "code",
   "execution_count": 56,
   "metadata": {},
   "outputs": [],
   "source": [
    "xgb_imp = imp_df.copy()"
   ]
  },
  {
   "cell_type": "code",
   "execution_count": null,
   "metadata": {},
   "outputs": [],
   "source": [
    "xgb_imp.head(20)"
   ]
  },
  {
   "cell_type": "code",
   "execution_count": 52,
   "metadata": {},
   "outputs": [],
   "source": [
    "rf_imp = imp_df.copy()"
   ]
  },
  {
   "cell_type": "code",
   "execution_count": null,
   "metadata": {},
   "outputs": [],
   "source": [
    "rf_imp.head(20)"
   ]
  },
  {
   "cell_type": "code",
   "execution_count": 338,
   "metadata": {},
   "outputs": [],
   "source": [
    "def get_param_grid(model_name):\n",
    "    if model_name == \"rf\":\n",
    "        param_grid = {\n",
    "            'n_estimators': [10, 50, 100],\n",
    "            'max_depth': [None, 5, 10, 20],\n",
    "            'min_samples_split': [2, 5, 10],\n",
    "            'min_samples_leaf': [1, 2, 4],\n",
    "            'max_features': [None, 'sqrt', 'log2']\n",
    "        }\n",
    "    elif model_name == \"xgb\":\n",
    "        param_grid = {\n",
    "            'n_estimators': [50, 100, 200],\n",
    "            'learning_rate': [0.01, 0.1, 0.2],\n",
    "            'max_depth': [3, 6, 9],\n",
    "            'subsample': [0.7, 0.9, 1],\n",
    "            'colsample_bytree': [0.7, 0.9, 1],\n",
    "            'min_child_weight': [1, 3, 5]\n",
    "        }\n",
    "    elif model_name == \"mlp\":\n",
    "        param_grid = {\n",
    "            \n",
    "        }\n",
    "    else:\n",
    "        param_grid = {}\n",
    "\n",
    "    return param_grid"
   ]
  },
  {
   "cell_type": "code",
   "execution_count": 339,
   "metadata": {},
   "outputs": [],
   "source": [
    "def clf_tuning(model, param_grid, X_train, y_train, X_test, y_test):\n",
    "    grid_search = GridSearchCV(estimator=model, param_grid=param_grid, cv=5, scoring='f1')\n",
    "    grid_search.fit(X_train, y_train)\n",
    "\n",
    "    best_model = grid_search.best_estimator_\n",
    "    best_params = grid_search.best_params_\n",
    "\n",
    "    y_pred = best_model.predict(X_test)\n",
    "    y_pred_prob = best_model.predict_proba(X_test)[:, 1]\n",
    "\n",
    "    metrics = {\n",
    "        \"Accuracy\": accuracy_score(y_test, y_pred),\n",
    "        \"F1\": f1_score(y_test, y_pred),\n",
    "        \"ROC AUC\": roc_auc_score(y_test, y_pred_prob),\n",
    "        \"Precision\": precision_score(y_test, y_pred),\n",
    "        \"Recall\": recall_score(y_test, y_pred)\n",
    "    }\n",
    "\n",
    "    return best_params, metrics"
   ]
  },
  {
   "cell_type": "code",
   "execution_count": null,
   "metadata": {},
   "outputs": [],
   "source": [
    "rf_param = get_param_grid('rf')\n",
    "best_rf_param, rf_metrics = clf_tuning(RandomForestClassifier(), rf_param, X_train, y_train, X_test, y_test)"
   ]
  },
  {
   "cell_type": "code",
   "execution_count": 4,
   "metadata": {},
   "outputs": [],
   "source": [
    "X_train = pd.read_csv('../data/X_train.csv')\n",
    "X_test = pd.read_csv('../data/X_test.csv')\n",
    "y_train = pd.read_csv('../data/y_train.csv')\n",
    "y_test = pd.read_csv('../data/y_test.csv')"
   ]
  },
  {
   "cell_type": "code",
   "execution_count": 5,
   "metadata": {},
   "outputs": [],
   "source": [
    "columns_to_drop = ['interest_rate', 'rate_spread', 'origination_charges', 'total_loan_costs']\n",
    "X_train = X_train.drop(columns=columns_to_drop, axis=1)\n",
    "X_test = X_test.drop(columns=columns_to_drop, axis=1)"
   ]
  },
  {
   "cell_type": "code",
   "execution_count": 6,
   "metadata": {},
   "outputs": [],
   "source": [
    "def recode_categorical_cols(df, recode_map):\n",
    "    for col, mapping in recode_map.items():\n",
    "        df[col] = df[col].replace(mapping)\n",
    "    return df"
   ]
  },
  {
   "cell_type": "code",
   "execution_count": 7,
   "metadata": {},
   "outputs": [],
   "source": [
    "# Privileged: 1, Unprivileged: 0\n",
    "recode_map = {\n",
    "    'ethnicity': {'Not Hispanic or Latino': 1, 'Hispanic or Latino': 0},\n",
    "    'race': {'White': 1, 'Black or African American': 2, 'Asian': 3, 'American Indian or Alaska Native': 4, '2 or more minority races': 5, 'Native Hawaiian or Other Pacific Islander': 6},\n",
    "    'sex': {'Male': 1, 'Female': 0},\n",
    "    'age': {'<25': 1, '25-34': 2, '35-44': 3, '45-54': 4, '55-64': 5, '65-74': 6, '>74': 7}\n",
    "}\n",
    "\n",
    "X_train = recode_categorical_cols(X_train, recode_map)\n",
    "X_test = recode_categorical_cols(X_test, recode_map)"
   ]
  },
  {
   "cell_type": "code",
   "execution_count": 8,
   "metadata": {},
   "outputs": [],
   "source": [
    "def imputing(X_train, X_test):\n",
    "    # Impute missing values with median for floating point columns and most frequent values (mode) for others\n",
    "    imputer_mode = SimpleImputer(strategy='most_frequent')\n",
    "    imputer_median = SimpleImputer(strategy='median')\n",
    "    for col in X_train.columns:\n",
    "        if X_train[col].dtype == 'float64':\n",
    "            X_train[col] = imputer_median.fit_transform(X_train[[col]]).ravel()\n",
    "            X_test[col] = imputer_median.transform(X_test[[col]]).ravel()\n",
    "        else:\n",
    "            X_train[col] = imputer_mode.fit_transform(X_train[[col]]).ravel()\n",
    "            X_test[col] = imputer_mode.transform(X_test[[col]]).ravel()\n",
    "\n",
    "    return X_train, X_test"
   ]
  },
  {
   "cell_type": "code",
   "execution_count": 9,
   "metadata": {},
   "outputs": [],
   "source": [
    "X_train, X_test = imputing(X_train, X_test)"
   ]
  },
  {
   "cell_type": "code",
   "execution_count": 12,
   "metadata": {},
   "outputs": [],
   "source": [
    "def scaling(X_train, X_test):\n",
    "    scaler = StandardScaler()\n",
    "    numeric_cols = ['loan_amount', 'combined_loan_to_value_ratio', 'loan_term', 'property_value', 'total_units', 'income']\n",
    "    for col in numeric_cols:\n",
    "        X_train[col] = scaler.fit_transform(X_train[[col]])\n",
    "        X_test[col] = scaler.transform(X_test[[col]])\n",
    "\n",
    "    return X_train, X_test"
   ]
  },
  {
   "cell_type": "code",
   "execution_count": 13,
   "metadata": {},
   "outputs": [],
   "source": [
    "X_train, X_test = scaling(X_train, X_test)"
   ]
  },
  {
   "cell_type": "code",
   "execution_count": 14,
   "metadata": {},
   "outputs": [],
   "source": [
    "def select_features(X_train, X_test, y_train):\n",
    "    train_data = pd.concat([X_train, y_train], axis=1)\n",
    "    corr_matrix = train_data.corr()\n",
    "    target_corr = corr_matrix.iloc[:-1, -1].abs()\n",
    "    col_to_drop = set(target_corr[target_corr > 0.8].index.tolist())\n",
    "\n",
    "    for i in range(len(corr_matrix.columns) - 1):\n",
    "        for j in range(i+1, len(corr_matrix.columns) - 1):\n",
    "            if abs(corr_matrix.iloc[i, j]) > 0.9:\n",
    "                if target_corr[i] > target_corr[j]:\n",
    "                    col_to_drop.add(corr_matrix.columns[j])\n",
    "                else:\n",
    "                    col_to_drop.add(corr_matrix.columns[i])\n",
    "\n",
    "    X_train = X_train.drop(columns=list(col_to_drop))\n",
    "    X_test = X_test.drop(columns=list(col_to_drop))\n",
    "\n",
    "    return X_train, X_test"
   ]
  },
  {
   "cell_type": "code",
   "execution_count": 15,
   "metadata": {},
   "outputs": [],
   "source": [
    "X_train, X_test = select_features(X_train, X_test, y_train)"
   ]
  },
  {
   "cell_type": "code",
   "execution_count": 16,
   "metadata": {},
   "outputs": [
    {
     "name": "stdout",
     "output_type": "stream",
     "text": [
      "<class 'pandas.core.frame.DataFrame'>\n",
      "RangeIndex: 70000 entries, 0 to 69999\n",
      "Data columns (total 22 columns):\n",
      " #   Column                                    Non-Null Count  Dtype  \n",
      "---  ------                                    --------------  -----  \n",
      " 0   state_code                                70000 non-null  object \n",
      " 1   conforming_loan_limit                     70000 non-null  object \n",
      " 2   loan_product_type                         70000 non-null  object \n",
      " 3   dwelling_category                         70000 non-null  object \n",
      " 4   ethnicity                                 70000 non-null  int64  \n",
      " 5   race                                      70000 non-null  int64  \n",
      " 6   sex                                       70000 non-null  int64  \n",
      " 7   preapproval                               70000 non-null  int64  \n",
      " 8   loan_purpose                              70000 non-null  object \n",
      " 9   open_end_line_of_credit                   70000 non-null  object \n",
      " 10  loan_amount                               70000 non-null  float64\n",
      " 11  combined_loan_to_value_ratio              70000 non-null  float64\n",
      " 12  hoepa_status                              70000 non-null  object \n",
      " 13  loan_term                                 70000 non-null  float64\n",
      " 14  property_value                            70000 non-null  float64\n",
      " 15  occupancy_type                            70000 non-null  object \n",
      " 16  manufactured_home_secured_property_type   70000 non-null  int64  \n",
      " 17  manufactured_home_land_property_interest  70000 non-null  object \n",
      " 18  total_units                               70000 non-null  float64\n",
      " 19  income                                    70000 non-null  float64\n",
      " 20  debt_to_income_ratio                      70000 non-null  object \n",
      " 21  age                                       70000 non-null  int64  \n",
      "dtypes: float64(6), int64(6), object(10)\n",
      "memory usage: 11.7+ MB\n"
     ]
    }
   ],
   "source": [
    "X_train.info()"
   ]
  },
  {
   "cell_type": "code",
   "execution_count": 17,
   "metadata": {},
   "outputs": [],
   "source": [
    "X_train['manufactured_home_secured_property_type'] = X_train['manufactured_home_secured_property_type'].astype(object)\n",
    "X_test['manufactured_home_secured_property_type'] = X_test['manufactured_home_secured_property_type'].astype(object)"
   ]
  },
  {
   "cell_type": "code",
   "execution_count": 20,
   "metadata": {},
   "outputs": [],
   "source": [
    "def encoding(X_train, X_test):\n",
    "    categorical_cols = list(range(0, 4)) + [8, 9, 12, 15, 17, 20]\n",
    "    categorical_names = X_train.columns[categorical_cols]\n",
    "\n",
    "    X_train_encoded = pd.get_dummies(X_train[categorical_names])\n",
    "    X_test_encoded = pd.get_dummies(X_test[categorical_names])\n",
    "\n",
    "    X_train_encoded, X_test_encoded = X_train_encoded.align(X_test_encoded, join='outer', axis=1, fill_value=0)\n",
    "    \n",
    "    X_train = X_train.drop(columns=categorical_names)\n",
    "    X_test = X_test.drop(columns=categorical_names)\n",
    "\n",
    "    X_train = pd.concat([X_train, X_train_encoded], axis=1)\n",
    "    X_test = pd.concat([X_test, X_test_encoded], axis=1)\n",
    "\n",
    "    return X_train, X_test"
   ]
  },
  {
   "cell_type": "code",
   "execution_count": 21,
   "metadata": {},
   "outputs": [],
   "source": [
    "X_train, X_test = encoding(X_train, X_test)"
   ]
  },
  {
   "cell_type": "code",
   "execution_count": 22,
   "metadata": {},
   "outputs": [],
   "source": [
    "X_train, X_test = select_features(X_train, X_test, y_train)"
   ]
  },
  {
   "cell_type": "code",
   "execution_count": 23,
   "metadata": {},
   "outputs": [],
   "source": [
    "X_train = X_train.astype({'ethnicity': int, 'race': int, 'sex': int, 'age': int})\n",
    "X_test = X_test.astype({'ethnicity': int, 'race': int, 'sex': int, 'age': int})"
   ]
  },
  {
   "cell_type": "code",
   "execution_count": 24,
   "metadata": {},
   "outputs": [],
   "source": [
    "train_df = pd.concat([X_train, y_train], axis=1)\n",
    "test_df = pd.concat([X_test, y_test], axis=1)"
   ]
  },
  {
   "cell_type": "code",
   "execution_count": 25,
   "metadata": {},
   "outputs": [],
   "source": [
    "bld_ethnicity_train = BinaryLabelDataset(df=train_df, label_names=['loan_approved'], protected_attribute_names=['ethnicity'], favorable_label=1, unfavorable_label=0)\n",
    "bld_ethnicity_test = BinaryLabelDataset(df=test_df, label_names=['loan_approved'], protected_attribute_names=['ethnicity'], favorable_label=1, unfavorable_label=0)\n",
    "privileged_ethnicity = [{'ethnicity': 1}]\n",
    "unprivileged_ethnicity = [{'ethnicity': 0}]\n",
    "dataset_metric_ethnicity = BinaryLabelDatasetMetric(bld_ethnicity_train, privileged_groups=privileged_ethnicity, unprivileged_groups=unprivileged_ethnicity)"
   ]
  },
  {
   "cell_type": "code",
   "execution_count": 26,
   "metadata": {},
   "outputs": [
    {
     "name": "stdout",
     "output_type": "stream",
     "text": [
      "Dataset Fairness Metrics w.r.t. Ethnicity: \n",
      "Disparate Impact:  0.9356058188162372\n",
      "Statistical Parity Difference:  -0.04842549472956659\n"
     ]
    }
   ],
   "source": [
    "print(\"Dataset Fairness Metrics w.r.t. Ethnicity: \")\n",
    "print(\"Disparate Impact: \", dataset_metric_ethnicity.disparate_impact())\n",
    "print(\"Statistical Parity Difference: \", dataset_metric_ethnicity.statistical_parity_difference())"
   ]
  },
  {
   "cell_type": "code",
   "execution_count": 27,
   "metadata": {},
   "outputs": [],
   "source": [
    "bld_race_train = BinaryLabelDataset(df=train_df, label_names=['loan_approved'], protected_attribute_names=['race'], favorable_label=1, unfavorable_label=0)\n",
    "bld_race_test = BinaryLabelDataset(df=test_df, label_names=['loan_approved'], protected_attribute_names=['race'], favorable_label=1, unfavorable_label=0)\n",
    "privileged_race = [{'race': 1}]\n",
    "unprivileged_race = [{'race': 2, 'race': 3, 'race': 4, 'race': 5, 'race': 6}]\n",
    "dataset_metric_race = BinaryLabelDatasetMetric(bld_race_train, privileged_groups=privileged_race, unprivileged_groups=unprivileged_race)"
   ]
  },
  {
   "cell_type": "code",
   "execution_count": 28,
   "metadata": {},
   "outputs": [
    {
     "name": "stdout",
     "output_type": "stream",
     "text": [
      "Dataset Fairness Metrics w.r.t. Race: \n",
      "Disparate Impact:  0.8368631316179284\n",
      "Statistical Parity Difference:  -0.12449855674071242\n"
     ]
    }
   ],
   "source": [
    "print(\"Dataset Fairness Metrics w.r.t. Race: \")\n",
    "print(\"Disparate Impact: \", dataset_metric_race.disparate_impact())\n",
    "print(\"Statistical Parity Difference: \", dataset_metric_race.statistical_parity_difference())"
   ]
  },
  {
   "cell_type": "code",
   "execution_count": 29,
   "metadata": {},
   "outputs": [],
   "source": [
    "bld_sex_train = BinaryLabelDataset(df=train_df, label_names=['loan_approved'], protected_attribute_names=['sex'], favorable_label=1, unfavorable_label=0)\n",
    "bld_sex_test = BinaryLabelDataset(df=test_df, label_names=['loan_approved'], protected_attribute_names=['sex'], favorable_label=1, unfavorable_label=0)\n",
    "privileged_sex = [{'sex': 1}]\n",
    "unprivileged_sex = [{'sex': 0}]\n",
    "dataset_metric_sex = BinaryLabelDatasetMetric(bld_sex_train, privileged_groups=privileged_sex, unprivileged_groups=unprivileged_sex)"
   ]
  },
  {
   "cell_type": "code",
   "execution_count": 30,
   "metadata": {},
   "outputs": [
    {
     "name": "stdout",
     "output_type": "stream",
     "text": [
      "Dataset Fairness Metrics w.r.t. Sex: \n",
      "Disparate Impact:  0.9767675407948306\n",
      "Statistical Parity Difference:  -0.017492347950814224\n"
     ]
    }
   ],
   "source": [
    "print(\"Dataset Fairness Metrics w.r.t. Sex: \")\n",
    "print(\"Disparate Impact: \", dataset_metric_sex.disparate_impact())\n",
    "print(\"Statistical Parity Difference: \", dataset_metric_sex.statistical_parity_difference())"
   ]
  },
  {
   "cell_type": "code",
   "execution_count": 31,
   "metadata": {},
   "outputs": [],
   "source": [
    "bld_age_train = BinaryLabelDataset(df=train_df, label_names=['loan_approved'], protected_attribute_names=['age'], favorable_label=1, unfavorable_label=0)\n",
    "bld_age_test = BinaryLabelDataset(df=test_df, label_names=['loan_approved'], protected_attribute_names=['age'], favorable_label=1, unfavorable_label=0)\n",
    "privileged_age = [{'age': 2, 'age': 3, 'age': 4, 'age': 5, 'age': 6}]\n",
    "unprivileged_age = [{'age': 1, 'age': 7}]\n",
    "dataset_metric_age = BinaryLabelDatasetMetric(bld_age_train, privileged_groups=privileged_age, unprivileged_groups=unprivileged_age)"
   ]
  },
  {
   "cell_type": "code",
   "execution_count": 32,
   "metadata": {},
   "outputs": [
    {
     "name": "stdout",
     "output_type": "stream",
     "text": [
      "Dataset Fairness Metrics w.r.t. Age: \n",
      "Disparate Impact:  0.9457166843702748\n",
      "Statistical Parity Difference:  -0.03842803554826446\n"
     ]
    }
   ],
   "source": [
    "print(\"Dataset Fairness Metrics w.r.t. Age: \")\n",
    "print(\"Disparate Impact: \", dataset_metric_age.disparate_impact())\n",
    "print(\"Statistical Parity Difference: \", dataset_metric_age.statistical_parity_difference())"
   ]
  },
  {
   "cell_type": "code",
   "execution_count": 33,
   "metadata": {},
   "outputs": [],
   "source": [
    "X_train = X_train.to_numpy()\n",
    "X_test = X_test.to_numpy()\n",
    "y_train = y_train.to_numpy().flatten()\n",
    "y_test = y_test.to_numpy().flatten()"
   ]
  },
  {
   "cell_type": "code",
   "execution_count": 34,
   "metadata": {},
   "outputs": [
    {
     "data": {
      "text/html": [
       "<style>#sk-container-id-1 {color: black;}#sk-container-id-1 pre{padding: 0;}#sk-container-id-1 div.sk-toggleable {background-color: white;}#sk-container-id-1 label.sk-toggleable__label {cursor: pointer;display: block;width: 100%;margin-bottom: 0;padding: 0.3em;box-sizing: border-box;text-align: center;}#sk-container-id-1 label.sk-toggleable__label-arrow:before {content: \"▸\";float: left;margin-right: 0.25em;color: #696969;}#sk-container-id-1 label.sk-toggleable__label-arrow:hover:before {color: black;}#sk-container-id-1 div.sk-estimator:hover label.sk-toggleable__label-arrow:before {color: black;}#sk-container-id-1 div.sk-toggleable__content {max-height: 0;max-width: 0;overflow: hidden;text-align: left;background-color: #f0f8ff;}#sk-container-id-1 div.sk-toggleable__content pre {margin: 0.2em;color: black;border-radius: 0.25em;background-color: #f0f8ff;}#sk-container-id-1 input.sk-toggleable__control:checked~div.sk-toggleable__content {max-height: 200px;max-width: 100%;overflow: auto;}#sk-container-id-1 input.sk-toggleable__control:checked~label.sk-toggleable__label-arrow:before {content: \"▾\";}#sk-container-id-1 div.sk-estimator input.sk-toggleable__control:checked~label.sk-toggleable__label {background-color: #d4ebff;}#sk-container-id-1 div.sk-label input.sk-toggleable__control:checked~label.sk-toggleable__label {background-color: #d4ebff;}#sk-container-id-1 input.sk-hidden--visually {border: 0;clip: rect(1px 1px 1px 1px);clip: rect(1px, 1px, 1px, 1px);height: 1px;margin: -1px;overflow: hidden;padding: 0;position: absolute;width: 1px;}#sk-container-id-1 div.sk-estimator {font-family: monospace;background-color: #f0f8ff;border: 1px dotted black;border-radius: 0.25em;box-sizing: border-box;margin-bottom: 0.5em;}#sk-container-id-1 div.sk-estimator:hover {background-color: #d4ebff;}#sk-container-id-1 div.sk-parallel-item::after {content: \"\";width: 100%;border-bottom: 1px solid gray;flex-grow: 1;}#sk-container-id-1 div.sk-label:hover label.sk-toggleable__label {background-color: #d4ebff;}#sk-container-id-1 div.sk-serial::before {content: \"\";position: absolute;border-left: 1px solid gray;box-sizing: border-box;top: 0;bottom: 0;left: 50%;z-index: 0;}#sk-container-id-1 div.sk-serial {display: flex;flex-direction: column;align-items: center;background-color: white;padding-right: 0.2em;padding-left: 0.2em;position: relative;}#sk-container-id-1 div.sk-item {position: relative;z-index: 1;}#sk-container-id-1 div.sk-parallel {display: flex;align-items: stretch;justify-content: center;background-color: white;position: relative;}#sk-container-id-1 div.sk-item::before, #sk-container-id-1 div.sk-parallel-item::before {content: \"\";position: absolute;border-left: 1px solid gray;box-sizing: border-box;top: 0;bottom: 0;left: 50%;z-index: -1;}#sk-container-id-1 div.sk-parallel-item {display: flex;flex-direction: column;z-index: 1;position: relative;background-color: white;}#sk-container-id-1 div.sk-parallel-item:first-child::after {align-self: flex-end;width: 50%;}#sk-container-id-1 div.sk-parallel-item:last-child::after {align-self: flex-start;width: 50%;}#sk-container-id-1 div.sk-parallel-item:only-child::after {width: 0;}#sk-container-id-1 div.sk-dashed-wrapped {border: 1px dashed gray;margin: 0 0.4em 0.5em 0.4em;box-sizing: border-box;padding-bottom: 0.4em;background-color: white;}#sk-container-id-1 div.sk-label label {font-family: monospace;font-weight: bold;display: inline-block;line-height: 1.2em;}#sk-container-id-1 div.sk-label-container {text-align: center;}#sk-container-id-1 div.sk-container {/* jupyter's `normalize.less` sets `[hidden] { display: none; }` but bootstrap.min.css set `[hidden] { display: none !important; }` so we also need the `!important` here to be able to override the default hidden behavior on the sphinx rendered scikit-learn.org. See: https://github.com/scikit-learn/scikit-learn/issues/21755 */display: inline-block !important;position: relative;}#sk-container-id-1 div.sk-text-repr-fallback {display: none;}</style><div id=\"sk-container-id-1\" class=\"sk-top-container\"><div class=\"sk-text-repr-fallback\"><pre>XGBClassifier(base_score=None, booster=&#x27;dart&#x27;, callbacks=None,\n",
       "              colsample_bylevel=None, colsample_bynode=None,\n",
       "              colsample_bytree=None, device=None, early_stopping_rounds=None,\n",
       "              enable_categorical=False, eval_metric=None, feature_types=None,\n",
       "              gamma=None, grow_policy=None, importance_type=None,\n",
       "              interaction_constraints=None, learning_rate=0.5, max_bin=None,\n",
       "              max_cat_threshold=None, max_cat_to_onehot=None,\n",
       "              max_delta_step=None, max_depth=8, max_leaves=None,\n",
       "              min_child_weight=None, min_split_loss=0, missing=nan,\n",
       "              monotone_constraints=None, multi_strategy=None, n_estimators=None,\n",
       "              n_jobs=None, num_parallel_tree=None, ...)</pre><b>In a Jupyter environment, please rerun this cell to show the HTML representation or trust the notebook. <br />On GitHub, the HTML representation is unable to render, please try loading this page with nbviewer.org.</b></div><div class=\"sk-container\" hidden><div class=\"sk-item\"><div class=\"sk-estimator sk-toggleable\"><input class=\"sk-toggleable__control sk-hidden--visually\" id=\"sk-estimator-id-1\" type=\"checkbox\" checked><label for=\"sk-estimator-id-1\" class=\"sk-toggleable__label sk-toggleable__label-arrow\">XGBClassifier</label><div class=\"sk-toggleable__content\"><pre>XGBClassifier(base_score=None, booster=&#x27;dart&#x27;, callbacks=None,\n",
       "              colsample_bylevel=None, colsample_bynode=None,\n",
       "              colsample_bytree=None, device=None, early_stopping_rounds=None,\n",
       "              enable_categorical=False, eval_metric=None, feature_types=None,\n",
       "              gamma=None, grow_policy=None, importance_type=None,\n",
       "              interaction_constraints=None, learning_rate=0.5, max_bin=None,\n",
       "              max_cat_threshold=None, max_cat_to_onehot=None,\n",
       "              max_delta_step=None, max_depth=8, max_leaves=None,\n",
       "              min_child_weight=None, min_split_loss=0, missing=nan,\n",
       "              monotone_constraints=None, multi_strategy=None, n_estimators=None,\n",
       "              n_jobs=None, num_parallel_tree=None, ...)</pre></div></div></div></div></div>"
      ],
      "text/plain": [
       "XGBClassifier(base_score=None, booster='dart', callbacks=None,\n",
       "              colsample_bylevel=None, colsample_bynode=None,\n",
       "              colsample_bytree=None, device=None, early_stopping_rounds=None,\n",
       "              enable_categorical=False, eval_metric=None, feature_types=None,\n",
       "              gamma=None, grow_policy=None, importance_type=None,\n",
       "              interaction_constraints=None, learning_rate=0.5, max_bin=None,\n",
       "              max_cat_threshold=None, max_cat_to_onehot=None,\n",
       "              max_delta_step=None, max_depth=8, max_leaves=None,\n",
       "              min_child_weight=None, min_split_loss=0, missing=nan,\n",
       "              monotone_constraints=None, multi_strategy=None, n_estimators=None,\n",
       "              n_jobs=None, num_parallel_tree=None, ...)"
      ]
     },
     "execution_count": 34,
     "metadata": {},
     "output_type": "execute_result"
    }
   ],
   "source": [
    "xgb = XGBClassifier(scale_pos_weight=1, min_split_loss=0, max_depth=8, learning_rate=0.5, booster='dart')\n",
    "\n",
    "xgb.fit(X_train, y_train)"
   ]
  },
  {
   "cell_type": "code",
   "execution_count": 35,
   "metadata": {},
   "outputs": [],
   "source": [
    "def evaluate_metrics(model, bld_test, privileged, unprivileged):\n",
    "    pred = model.predict(X_test)\n",
    "    bld_pred = bld_test.copy()\n",
    "    bld_pred.labels = pred.reshape(-1, 1)\n",
    "\n",
    "    metrics = ClassificationMetric(bld_test, bld_pred, unprivileged_groups=unprivileged, privileged_groups=privileged)\n",
    "    print(\"Disparate Impact: \", metrics.disparate_impact())\n",
    "    print(\"Statistical Parity Difference: \", metrics.statistical_parity_difference())\n",
    "    print(\"Average Odds Difference: \", metrics.average_odds_difference())\n",
    "    print(\"Equal Opportunity Difference: \", metrics.equal_opportunity_difference())\n",
    "    print(\"Theil Index: \", metrics.theil_index())"
   ]
  },
  {
   "cell_type": "code",
   "execution_count": 36,
   "metadata": {},
   "outputs": [
    {
     "name": "stdout",
     "output_type": "stream",
     "text": [
      "Fairness Metrics w.r.t. Ethnicity\n",
      "Disparate Impact:  0.9337525432503483\n",
      "Statistical Parity Difference:  -0.054622836308257705\n",
      "Average Odds Difference:  -0.033158073830614226\n",
      "Equal Opportunity Difference:  -0.012441067223648017\n",
      "Theil Index:  0.07490013945667533\n"
     ]
    }
   ],
   "source": [
    "print(\"Fairness Metrics w.r.t. Ethnicity\")\n",
    "evaluate_metrics(xgb, bld_ethnicity_test, privileged_ethnicity, unprivileged_ethnicity)"
   ]
  },
  {
   "cell_type": "code",
   "execution_count": 37,
   "metadata": {},
   "outputs": [
    {
     "name": "stdout",
     "output_type": "stream",
     "text": [
      "Fairness Metrics w.r.t. Race\n",
      "Disparate Impact:  0.7749484427377212\n",
      "Statistical Parity Difference:  -0.18807402807919227\n",
      "Average Odds Difference:  -0.15315057654661113\n",
      "Equal Opportunity Difference:  -0.09656041911476687\n",
      "Theil Index:  0.07490013945667533\n"
     ]
    }
   ],
   "source": [
    "print(\"Fairness Metrics w.r.t. Race\")\n",
    "evaluate_metrics(xgb, bld_race_test, privileged_race, unprivileged_race)"
   ]
  },
  {
   "cell_type": "code",
   "execution_count": 38,
   "metadata": {},
   "outputs": [
    {
     "name": "stdout",
     "output_type": "stream",
     "text": [
      "Fairness Metrics w.r.t. Sex\n",
      "Disparate Impact:  0.9600566965175855\n",
      "Statistical Parity Difference:  -0.03319464707047781\n",
      "Average Odds Difference:  -0.030225463819611192\n",
      "Equal Opportunity Difference:  -0.001978385632363855\n",
      "Theil Index:  0.07490013945667533\n"
     ]
    }
   ],
   "source": [
    "print(\"Fairness Metrics w.r.t. Sex\")\n",
    "evaluate_metrics(xgb, bld_sex_test, privileged_sex, unprivileged_sex)"
   ]
  },
  {
   "cell_type": "code",
   "execution_count": 39,
   "metadata": {},
   "outputs": [
    {
     "name": "stdout",
     "output_type": "stream",
     "text": [
      "Fairness Metrics w.r.t. Age\n",
      "Disparate Impact:  0.9426736192791239\n",
      "Statistical Parity Difference:  -0.04487307359838777\n",
      "Average Odds Difference:  -0.028804461469031123\n",
      "Equal Opportunity Difference:  -0.009220161093483115\n",
      "Theil Index:  0.07490013945667533\n"
     ]
    }
   ],
   "source": [
    "print(\"Fairness Metrics w.r.t. Age\")\n",
    "evaluate_metrics(xgb, bld_age_test, privileged_age, unprivileged_age)"
   ]
  }
 ],
 "metadata": {
  "kernelspec": {
   "display_name": "base",
   "language": "python",
   "name": "python3"
  },
  "language_info": {
   "codemirror_mode": {
    "name": "ipython",
    "version": 3
   },
   "file_extension": ".py",
   "mimetype": "text/x-python",
   "name": "python",
   "nbconvert_exporter": "python",
   "pygments_lexer": "ipython3",
   "version": "3.8.5"
  }
 },
 "nbformat": 4,
 "nbformat_minor": 2
}
